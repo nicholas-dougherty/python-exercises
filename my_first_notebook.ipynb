{
 "cells": [
  {
   "cell_type": "code",
   "execution_count": 3,
   "id": "72ecd042",
   "metadata": {},
   "outputs": [
    {
     "name": "stdout",
     "output_type": "stream",
     "text": [
      "Hello, *taps microphone* is this thing on?\n"
     ]
    }
   ],
   "source": [
    "print(\"Hello, *taps microphone* is this thing on?\")"
   ]
  },
  {
   "cell_type": "markdown",
   "id": "a444a4c1",
   "metadata": {},
   "source": [
    "This is a _markdown_ cell. These are used as text-only, useful for taking notes and organizing the notebook. To create these, first make a new cell by using the plus sign beside the save icon OR SHIFT+ENTER. Next, navigate to the Cell menu in the nav bar and choose Markdown. Code cells are the default for newly added fields"
   ]
  },
  {
   "cell_type": "code",
   "execution_count": 5,
   "id": "b398fa09",
   "metadata": {},
   "outputs": [
    {
     "name": "stdout",
     "output_type": "stream",
     "text": [
      "Slapping my laptop to activate the microphone was unnecessary\n"
     ]
    }
   ],
   "source": [
    "print(\"Slapping my laptop to activate the microphone was unnecessary\")"
   ]
  },
  {
   "cell_type": "code",
   "execution_count": 6,
   "id": "51557ceb",
   "metadata": {},
   "outputs": [
    {
     "data": {
      "text/plain": [
       "4"
      ]
     },
     "execution_count": 6,
     "metadata": {},
     "output_type": "execute_result"
    }
   ],
   "source": [
    "# Markdown cells are sexy and all, but so are comments like this one\n",
    "2 + 2 "
   ]
  },
  {
   "cell_type": "code",
   "execution_count": 7,
   "id": "d98e6332",
   "metadata": {},
   "outputs": [
    {
     "name": "stdout",
     "output_type": "stream",
     "text": [
      "Radiohead lied to me! 2 + 2 does not equal 5! T-T T_T T-T\n"
     ]
    }
   ],
   "source": [
    "print(\"Radiohead lied to me! 2 + 2 does not equal 5! T-T T_T T-T\")"
   ]
  },
  {
   "cell_type": "markdown",
   "id": "11d74341",
   "metadata": {},
   "source": [
    "SO, now is the time for some Jupyter shortcuts. \n",
    "The toolbar has several shortcut buttons for popular actions. From left to right: save, add a new cell, cut selected cells, copy selected cells, paste cells below, move selected cells up, move selected cells down, run, interrupt the kernel, restart the kernel, a dropdown that allows you to change the cell type, and a shortcut to open the command palette."
   ]
  },
  {
   "cell_type": "code",
   "execution_count": null,
   "id": "8f243423",
   "metadata": {},
   "outputs": [],
   "source": []
  }
 ],
 "metadata": {
  "kernelspec": {
   "display_name": "Python 3 (ipykernel)",
   "language": "python",
   "name": "python3"
  },
  "language_info": {
   "codemirror_mode": {
    "name": "ipython",
    "version": 3
   },
   "file_extension": ".py",
   "mimetype": "text/x-python",
   "name": "python",
   "nbconvert_exporter": "python",
   "pygments_lexer": "ipython3",
   "version": "3.9.7"
  }
 },
 "nbformat": 4,
 "nbformat_minor": 5
}
